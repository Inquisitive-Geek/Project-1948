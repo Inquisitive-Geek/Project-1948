{
 "cells": [
  {
   "cell_type": "code",
   "execution_count": 5,
   "metadata": {
    "collapsed": true
   },
   "outputs": [],
   "source": [
    "from langdetect import detect\n",
    "from pydrive.drive import GoogleDrive\n",
    "from pydrive.auth import GoogleAuth"
   ]
  },
  {
   "cell_type": "code",
   "execution_count": 2,
   "metadata": {},
   "outputs": [
    {
     "data": {
      "text/plain": [
       "'sl'"
      ]
     },
     "execution_count": 2,
     "metadata": {},
     "output_type": "execute_result"
    }
   ],
   "source": [
    "detect('Na fakultetu, inače svako gleda sebe')"
   ]
  },
  {
   "cell_type": "code",
   "execution_count": 3,
   "metadata": {},
   "outputs": [
    {
     "data": {
      "text/plain": [
       "'en'"
      ]
     },
     "execution_count": 3,
     "metadata": {},
     "output_type": "execute_result"
    }
   ],
   "source": [
    "detect('In universities, people generally just look out for themselves.')"
   ]
  },
  {
   "cell_type": "code",
   "execution_count": 8,
   "metadata": {
    "collapsed": true
   },
   "outputs": [],
   "source": [
    "gauth = GoogleAuth()"
   ]
  },
  {
   "cell_type": "code",
   "execution_count": 10,
   "metadata": {},
   "outputs": [
    {
     "name": "stdout",
     "output_type": "stream",
     "text": [
      "Your browser has been opened to visit:\n",
      "\n",
      "    https://accounts.google.com/o/oauth2/auth?client_id=308882224517-958s94n6alc9ks934lbqppe7s3p989su.apps.googleusercontent.com&redirect_uri=http%3A%2F%2Flocalhost%3A8080%2F&scope=https%3A%2F%2Fwww.googleapis.com%2Fauth%2Fdrive&access_type=offline&response_type=code\n",
      "\n",
      "Authentication successful.\n"
     ]
    }
   ],
   "source": [
    "# Creates local web server and handles authentication\n",
    "gauth.LocalWebserverAuth()  "
   ]
  },
  {
   "cell_type": "markdown",
   "metadata": {},
   "source": [
    "We first query only those files in the required folder in Google Drive (Photo-Voice 2014 2015)"
   ]
  },
  {
   "cell_type": "code",
   "execution_count": 12,
   "metadata": {
    "collapsed": true
   },
   "outputs": [],
   "source": [
    "drive = GoogleDrive(gauth)"
   ]
  },
  {
   "cell_type": "code",
   "execution_count": 25,
   "metadata": {},
   "outputs": [],
   "source": [
    "# file_list = drive.ListFile({'q':\"'root' in parents and trashed=false\"}).GetList()\n",
    "file_list = drive.ListFile({'q':\"'0Bw1Y5qBFs4eJekdNeFZsY3dTYWM' in parents and trashed=false\"}).GetList()"
   ]
  },
  {
   "cell_type": "code",
   "execution_count": 27,
   "metadata": {},
   "outputs": [
    {
     "name": "stdout",
     "output_type": "stream",
     "text": [
      "title:  Interview #02, id 0Bw1Y5qBFs4eJa2VzRFNCc25EeVE, mimeType application/vnd.google-apps.folder\n",
      "title: MAXQDA, id 0Bw_KqdE_ZYVYflh1WmtTb0F2bU9rLUU1ZEZ4ZWJCeW9qS3V6ekUyajFJTzBuZU9EUV90LUE, mimeType application/vnd.google-apps.folder\n",
      "title: Photo-Voice Data, id 0Bw_KqdE_ZYVYfm96NGxQZmt5dlJWNDV5bnpaVWF0ZEgtYTJzY3Ntb2ZwVGhDTnRjNWhEOWc, mimeType application/vnd.google-apps.folder\n",
      "title: Interview #07., id 0Bw1Y5qBFs4eJZGFsNUNvS2JTUE0, mimeType application/vnd.google-apps.folder\n",
      "title: Interview #13., id 0Bw1Y5qBFs4eJcF9MNkRGNDhsTlU, mimeType application/vnd.google-apps.folder\n",
      "title: Interview #05., id 0Bw1Y5qBFs4eJSmZGTGNPQU1HbW8, mimeType application/vnd.google-apps.folder\n",
      "title: Interview #04., id 0Bw1Y5qBFs4eJbW5iT1BvTGFrYXc, mimeType application/vnd.google-apps.folder\n",
      "title: Interview #06., id 0Bw1Y5qBFs4eJYzJCaDJReE9ZRG8, mimeType application/vnd.google-apps.folder\n",
      "title: Interview #03., id 0Bw1Y5qBFs4eJSlllemZhb2YtQkk, mimeType application/vnd.google-apps.folder\n",
      "title: Interview #01., id 0Bw1Y5qBFs4eJQ2I1UktWa21ESTA, mimeType application/vnd.google-apps.folder\n",
      "title: Interview #12., id 0Bw1Y5qBFs4eJR3dnRFlqMGFZSmM, mimeType application/vnd.google-apps.folder\n",
      "title: Interview #11., id 0Bw1Y5qBFs4eJMnhDTlFQcm9xcW8, mimeType application/vnd.google-apps.folder\n",
      "title: Interview #10., id 0Bw1Y5qBFs4eJbTRfY2lVclFrQ28, mimeType application/vnd.google-apps.folder\n",
      "title: Interview #08., id 0Bw1Y5qBFs4eJbV80RzZma0NKMzg, mimeType application/vnd.google-apps.folder\n",
      "title: Interview #09., id 0Bw1Y5qBFs4eJbkF4NnpxVjNXcDg, mimeType application/vnd.google-apps.folder\n"
     ]
    }
   ],
   "source": [
    "for file in file_list:\n",
    "    print('title: %s, id %s, mimeType %s' % (file['title'], file['id'], file['mimeType']))"
   ]
  },
  {
   "cell_type": "markdown",
   "metadata": {},
   "source": [
    "I now need to iterate through all of the folders above, get all the list of docx files, then download their data before manipulating them so that any non-English sentences in them are removed as they are the original spokene sentences."
   ]
  },
  {
   "cell_type": "code",
   "execution_count": null,
   "metadata": {
    "collapsed": true
   },
   "outputs": [],
   "source": []
  }
 ],
 "metadata": {
  "kernelspec": {
   "display_name": "Python 3",
   "language": "python",
   "name": "python3"
  },
  "language_info": {
   "codemirror_mode": {
    "name": "ipython",
    "version": 3
   },
   "file_extension": ".py",
   "mimetype": "text/x-python",
   "name": "python",
   "nbconvert_exporter": "python",
   "pygments_lexer": "ipython3",
   "version": "3.6.1"
  }
 },
 "nbformat": 4,
 "nbformat_minor": 2
}
