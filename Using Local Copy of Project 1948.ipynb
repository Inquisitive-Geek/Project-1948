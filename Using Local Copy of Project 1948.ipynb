{
 "cells": [
  {
   "cell_type": "markdown",
   "metadata": {},
   "source": [
    "All the interview files were downloaded and saved in a common folder."
   ]
  },
  {
   "cell_type": "code",
   "execution_count": 1,
   "metadata": {
    "collapsed": true
   },
   "outputs": [
    {
     "name": "stdout",
     "output_type": "stream",
     "text": [
      "[nltk_data] Downloading package stopwords to\n",
      "[nltk_data]     /Users/roshanshetty/nltk_data...\n",
      "[nltk_data]   Package stopwords is already up-to-date!\n",
      "[nltk_data] Downloading package wordnet to\n",
      "[nltk_data]     /Users/roshanshetty/nltk_data...\n",
      "[nltk_data]   Package wordnet is already up-to-date!\n"
     ]
    },
    {
     "name": "stderr",
     "output_type": "stream",
     "text": [
      "Using TensorFlow backend.\n"
     ]
    }
   ],
   "source": [
    "import project_1948"
   ]
  },
  {
   "cell_type": "code",
   "execution_count": 2,
   "metadata": {
    "collapsed": true
   },
   "outputs": [],
   "source": [
    "from project_1948 import read_doc_file_to_string\n",
    "from project_1948 import remove_grouped_text\n",
    "from project_1948 import remove_punctuation_characters\n",
    "from project_1948 import normalize_text\n",
    "from project_1948 import separate_statements\n",
    "from project_1948 import word_context\n",
    "from project_1948 import clean_text\n",
    "from project_1948 import count_keywords_and_phrases\n",
    "from project_1948 import count_words\n",
    "from project_1948 import extract_interviewee\n",
    "from project_1948 import synonym_collect\n",
    "from project_1948 import create_wordcloud\n",
    "from project_1948 import clean_and_prep\n",
    "from project_1948 import build_topic_model"
   ]
  },
  {
   "cell_type": "markdown",
   "metadata": {},
   "source": [
    "The below code allows to read all the docx files into variables."
   ]
  },
  {
   "cell_type": "code",
   "execution_count": 4,
   "metadata": {
    "collapsed": true
   },
   "outputs": [],
   "source": [
    "text_file_1 = read_doc_file_to_string('Interview #1 - Participant 1.docx', 'rb')"
   ]
  },
  {
   "cell_type": "code",
   "execution_count": 5,
   "metadata": {
    "collapsed": true
   },
   "outputs": [],
   "source": [
    "text_file_2_1 = read_doc_file_to_string('Interview #2-Participant 2.docx', 'rb')\n",
    "text_file_2_2 = read_doc_file_to_string('Interview 2-Participant 2.docx', 'rb')"
   ]
  },
  {
   "cell_type": "code",
   "execution_count": 6,
   "metadata": {
    "collapsed": true
   },
   "outputs": [],
   "source": [
    "text_file_4 = read_doc_file_to_string('Interview#4Participant#4.docx', 'rb')"
   ]
  },
  {
   "cell_type": "code",
   "execution_count": 7,
   "metadata": {
    "collapsed": true
   },
   "outputs": [],
   "source": [
    "text_file_5 = read_doc_file_to_string('Interview #5. Participant # 5.docx', 'rb')"
   ]
  },
  {
   "cell_type": "code",
   "execution_count": 8,
   "metadata": {
    "collapsed": true
   },
   "outputs": [],
   "source": [
    "text_file_6 = read_doc_file_to_string('Interview #6. Participant #6.docx', 'rb')"
   ]
  },
  {
   "cell_type": "code",
   "execution_count": 9,
   "metadata": {
    "collapsed": true
   },
   "outputs": [],
   "source": [
    "text_file_7 = read_doc_file_to_string('Interview #7. Participant #7.docx', 'rb')"
   ]
  },
  {
   "cell_type": "code",
   "execution_count": 10,
   "metadata": {
    "collapsed": true
   },
   "outputs": [],
   "source": [
    "text_file_8_1 = read_doc_file_to_string('Interview #8 . Participant #8 2cd Recording.docx', 'rb')\n",
    "text_file_8_2 = read_doc_file_to_string('Interview #8 2cd Recording.docx', 'rb')\n",
    "text_file_8_3 = read_doc_file_to_string('Interview #8 Recording - 13 minute runtime.docx', 'rb')\n",
    "text_file_8_4 = read_doc_file_to_string('Interview #8. Participant #8. 1st Recording - 13 minute runtime.docx', 'rb')"
   ]
  },
  {
   "cell_type": "code",
   "execution_count": 11,
   "metadata": {
    "collapsed": true
   },
   "outputs": [],
   "source": [
    "text_file_9 = read_doc_file_to_string('Interview #9. Participant #9.docx', 'rb')"
   ]
  },
  {
   "cell_type": "code",
   "execution_count": 12,
   "metadata": {
    "collapsed": true
   },
   "outputs": [],
   "source": [
    "text_file_10 = read_doc_file_to_string('Interview #10. Participant #10.docx', 'rb')"
   ]
  },
  {
   "cell_type": "code",
   "execution_count": 13,
   "metadata": {
    "collapsed": true
   },
   "outputs": [],
   "source": [
    "text_file_11_1 = read_doc_file_to_string('Interview #11 (1).docx', 'rb')\n",
    "text_file_11_2 = read_doc_file_to_string('Interview #11&12.Partcipant1&2.docx', 'rb')\n",
    "# Added Interview 12 file\n",
    "text_file_11_3 = read_doc_file_to_string('Interview #12.docx','rb')\n",
    "# Added Interview 13 file\n",
    "text_file_11_4 = read_doc_file_to_string('Interview #13. Participant #13.docx', 'rb')"
   ]
  },
  {
   "cell_type": "code",
   "execution_count": 14,
   "metadata": {
    "collapsed": true
   },
   "outputs": [],
   "source": [
    "text_file_12 = read_doc_file_to_string('Kenan.docx', 'rb')\n",
    "# Added the words \"INTERVIEWEE\" and \"INTERVIEWER\" to the file\n",
    "text_file_12 = 'INTERVIEWEE' +' '+ text_file_12 + ' ' + 'INTERVIEWER'"
   ]
  },
  {
   "cell_type": "code",
   "execution_count": 15,
   "metadata": {
    "collapsed": true
   },
   "outputs": [],
   "source": [
    "text_file_13 = read_doc_file_to_string('Aris.docx', 'rb')\n",
    "# Added Adnan file\n",
    "text_file_13_1 = read_doc_file_to_string('Adnan.docx', 'rb')\n",
    "# Added Amer file\n",
    "text_file_13_2 = read_doc_file_to_string('Amer.docx', 'rb')"
   ]
  },
  {
   "cell_type": "code",
   "execution_count": 16,
   "metadata": {
    "collapsed": true
   },
   "outputs": [],
   "source": [
    "text_file_14 = read_doc_file_to_string('Belma.docx', 'rb')"
   ]
  },
  {
   "cell_type": "code",
   "execution_count": 17,
   "metadata": {
    "collapsed": true
   },
   "outputs": [],
   "source": [
    "text_file_15 = read_doc_file_to_string('Danijel.docx', 'rb')"
   ]
  },
  {
   "cell_type": "code",
   "execution_count": 18,
   "metadata": {
    "collapsed": true
   },
   "outputs": [],
   "source": [
    "text_file_16 = read_doc_file_to_string('Darko.docx', 'rb')"
   ]
  },
  {
   "cell_type": "code",
   "execution_count": 19,
   "metadata": {
    "collapsed": true
   },
   "outputs": [],
   "source": [
    "text_file_17 = read_doc_file_to_string('Jusuf.docx', 'rb')"
   ]
  },
  {
   "cell_type": "markdown",
   "metadata": {},
   "source": [
    "A sample output shows the contents of the file being read and stored in a string."
   ]
  },
  {
   "cell_type": "code",
   "execution_count": 20,
   "metadata": {
    "collapsed": true
   },
   "outputs": [],
   "source": [
    "#text_file_1"
   ]
  },
  {
   "cell_type": "markdown",
   "metadata": {},
   "source": [
    "Let's combine the files into one list for further processing."
   ]
  },
  {
   "cell_type": "code",
   "execution_count": 21,
   "metadata": {
    "collapsed": true
   },
   "outputs": [],
   "source": [
    "# Create a list first of all the strings\n",
    "# Added more text files \n",
    "text_file_overall = [text_file_1, text_file_2_1, text_file_2_2, text_file_4, text_file_5, text_file_6, text_file_7,\n",
    "                    text_file_8_1, text_file_8_2, text_file_8_3, text_file_8_4, text_file_9, text_file_10, \n",
    "                    text_file_11_1, text_file_11_2, text_file_11_3, text_file_11_4,text_file_12, text_file_13, text_file_13_1, text_file_13_2,text_file_14, text_file_15, text_file_16,\n",
    "                    text_file_17]"
   ]
  },
  {
   "cell_type": "markdown",
   "metadata": {},
   "source": [
    "The data for all the files is being cleaned."
   ]
  },
  {
   "cell_type": "code",
   "execution_count": 22,
   "metadata": {
    "collapsed": true
   },
   "outputs": [],
   "source": [
    "cleaned_text_overall = clean_text(text_file_overall)\n",
    "#cleaned_text_overall[12]"
   ]
  },
  {
   "cell_type": "code",
   "execution_count": 23,
   "metadata": {
    "scrolled": true
   },
   "outputs": [
    {
     "name": "stdout",
     "output_type": "stream",
     "text": [
      "finished\n"
     ]
    }
   ],
   "source": [
    "count_keywords_and_phrases(cleaned_text_overall)"
   ]
  },
  {
   "cell_type": "code",
   "execution_count": 24,
   "metadata": {},
   "outputs": [
    {
     "name": "stdout",
     "output_type": "stream",
     "text": [
      "finished\n"
     ]
    }
   ],
   "source": [
    "count_words(cleaned_text_overall)"
   ]
  },
  {
   "cell_type": "code",
   "execution_count": 25,
   "metadata": {
    "collapsed": true
   },
   "outputs": [],
   "source": [
    "# Calling the function to extract interviewees responses - interviewees_blob\n",
    "interviewees_list, interviewees_blob = extract_interviewee(cleaned_text_overall, 'INTERVIEWEE','INTERVIEWER')"
   ]
  },
  {
   "cell_type": "code",
   "execution_count": 26,
   "metadata": {
    "collapsed": true
   },
   "outputs": [],
   "source": [
    "# Reading the given list of keywords from local directory\n",
    "f = open('Subsetted keyword list.txt', 'r')\n",
    "keyword_list = f.read().split('\\n')"
   ]
  },
  {
   "cell_type": "code",
   "execution_count": 27,
   "metadata": {},
   "outputs": [
    {
     "name": "stderr",
     "output_type": "stream",
     "text": [
      "/Users/roshanshetty/anaconda/lib/python3.6/site-packages/bs4/__init__.py:181: UserWarning: No parser was explicitly specified, so I'm using the best available HTML parser for this system (\"lxml\"). This usually isn't a problem, but if you run this code on another system, or in a different virtual environment, it may use a different parser and behave differently.\n",
      "\n",
      "The code that caused this warning is on line 193 of the file /Users/roshanshetty/anaconda/lib/python3.6/runpy.py. To get rid of this warning, change code that looks like this:\n",
      "\n",
      " BeautifulSoup(YOUR_MARKUP})\n",
      "\n",
      "to this:\n",
      "\n",
      " BeautifulSoup(YOUR_MARKUP, \"lxml\")\n",
      "\n",
      "  markup_type=markup_type))\n"
     ]
    },
    {
     "name": "stdout",
     "output_type": "stream",
     "text": [
      "Balkanization has no Synonyms in the API\n"
     ]
    }
   ],
   "source": [
    "# Calling the function to get synonyms for the given keywords and collect the frequency of the keyword and the synonyms\n",
    "keywords_synonyms = synonym_collect(interviewees_blob,keyword_list)"
   ]
  },
  {
   "cell_type": "code",
   "execution_count": 28,
   "metadata": {},
   "outputs": [
    {
     "name": "stdout",
     "output_type": "stream",
     "text": [
      "{'Absence': {0: {'absenteeism': 0,\n",
      "                 'cut': 19,\n",
      "                 'hooky': 0,\n",
      "                 'truancy': 0,\n",
      "                 'vacancy': 0}},\n",
      " 'Acceptance': {1: {'acknowledgment': 0,\n",
      "                    'admission': 0,\n",
      "                    'compliance': 0,\n",
      "                    'consent': 5,\n",
      "                    'cooperation': 0}},\n",
      " 'Activism': {1: {'advocacy': 0,\n",
      "                  'involvement': 0,\n",
      "                  'logrolling': 0,\n",
      "                  'militancy': 0,\n",
      "                  'striking': 0}},\n",
      " 'Adolescense': {0: {'adolescent': 0, 'adolescents': 0}},\n",
      " 'Altruism': {0: {'benevolence': 0,\n",
      "                  'charity': 2,\n",
      "                  'kindness': 0,\n",
      "                  'magnanimity': 0,\n",
      "                  'philanthropy': 0}},\n",
      " 'Anger': {6: {'acrimony': 0,\n",
      "               'annoyance': 0,\n",
      "               'enmity': 0,\n",
      "               'impatience': 0,\n",
      "               'rage': 15}},\n",
      " 'Anti-Semitism': {0: {'race discrimination': 0,\n",
      "                       'race prejudice': 0,\n",
      "                       'race snobbery': 0,\n",
      "                       'racialism': 0,\n",
      "                       'racism': 0}},\n",
      " 'Attack': {22: {'intrusion': 0,\n",
      "                 'offensive': 2,\n",
      "                 'onslaught': 0,\n",
      "                 'raid': 8,\n",
      "                 'violation': 0}},\n",
      " 'Beautiful': {33: {'alluring': 0,\n",
      "                    'cute': 10,\n",
      "                    'fascinating': 0,\n",
      "                    'magnificent': 0,\n",
      "                    'marvelous': 0}},\n",
      " 'Betrayal': {0: {'deception': 0,\n",
      "                  'dishonesty': 0,\n",
      "                  'sellout': 0,\n",
      "                  'treachery': 0,\n",
      "                  'treason': 1}},\n",
      " 'Buildings': {20: {'architecture': 8,\n",
      "                    'construction': 0,\n",
      "                    'home': 81,\n",
      "                    'house': 68,\n",
      "                    'hut': 6}},\n",
      " 'Careers': {0: {'course': 14,\n",
      "                 'orbit': 0,\n",
      "                 'passage': 2,\n",
      "                 'pilgrimage': 0,\n",
      "                 'race': 6}},\n",
      " 'Cathedral': {8: {'basilica': 0,\n",
      "                   'house of god': 0,\n",
      "                   'house of worship': 0,\n",
      "                   'sanctuary': 0,\n",
      "                   'temple': 0}},\n",
      " 'Cemetary': {0: {'centra': 8,\n",
      "                  'century': 5,\n",
      "                  'geometry': 0,\n",
      "                  'sectary': 0,\n",
      "                  'smeary': 0}},\n",
      " 'Census': {1: {'demographics': 0,\n",
      "                'demography': 0,\n",
      "                'enumeration': 0,\n",
      "                'poll': 0,\n",
      "                'statistics': 12}},\n",
      " 'Childhood': {6: {'infancy': 0,\n",
      "                   'juvenility': 0,\n",
      "                   'minority': 2,\n",
      "                   'nonage': 0,\n",
      "                   'puberty': 3}},\n",
      " 'Church': {79: {'mosque': 44,\n",
      "                 'parish': 0,\n",
      "                 'sanctuary': 0,\n",
      "                 'shrine': 0,\n",
      "                 'synagogue': 1}},\n",
      " 'Community': {12: {'center': 12,\n",
      "                    'company': 2,\n",
      "                    'district': 1,\n",
      "                    'neighborhood': 1,\n",
      "                    'people': 747}},\n",
      " 'Conflict': {13: {'clash': 0,\n",
      "                   'combat': 0,\n",
      "                   'competition': 2,\n",
      "                   'strife': 0,\n",
      "                   'struggle': 1}},\n",
      " 'Connection': {16: {'acquaintance': 0,\n",
      "                     'associate': 2,\n",
      "                     'contact': 11,\n",
      "                     'network': 2,\n",
      "                     'relation': 14}},\n",
      " 'Constitution': {12: {'character': 7,\n",
      "                       'form': 44,\n",
      "                       'habit': 2,\n",
      "                       'nature': 10,\n",
      "                       'structure': 27}},\n",
      " 'Corruption': {24: {'crime': 0,\n",
      "                     'exploitation': 0,\n",
      "                     'fraud': 0,\n",
      "                     'malfeasance': 0,\n",
      "                     'nepotism': 3}},\n",
      " 'Dark': {10: {'dim': 13, 'misty': 0, 'murky': 0, 'overcast': 0, 'shadowy': 0}},\n",
      " 'Death': {1: {'decease': 0,\n",
      "               'dissolution': 0,\n",
      "               'downfall': 0,\n",
      "               'repose': 0,\n",
      "               'ruination': 0}},\n",
      " 'Defense': {2: {'fence': 0,\n",
      "                 'guard': 0,\n",
      "                 'resistance': 0,\n",
      "                 'shield': 0,\n",
      "                 'wall': 1}},\n",
      " 'Denial': {0: {'disapproval': 0,\n",
      "                'rebuttal': 0,\n",
      "                'rejection': 0,\n",
      "                'repudiation': 0,\n",
      "                'veto': 0}},\n",
      " 'Disaster': {3: {'catastrophe': 2,\n",
      "                  'crash': 3,\n",
      "                  'emergency': 0,\n",
      "                  'failure': 0,\n",
      "                  'harm': 6}},\n",
      " 'Discrimination': {1: {'bigotry': 0,\n",
      "                        'favoritism': 0,\n",
      "                        'inequity': 0,\n",
      "                        'intolerance': 0,\n",
      "                        'prejudice': 4}},\n",
      " 'Disturbing': {10: {'annoying': 4,\n",
      "                     'distressing': 0,\n",
      "                     'embarrassing': 1,\n",
      "                     'troublesome': 0,\n",
      "                     'worrisome': 0}},\n",
      " 'Division': {1: {'disjuncture': 0,\n",
      "                  'dissolution': 0,\n",
      "                  'distribution': 0,\n",
      "                  'disunion': 0,\n",
      "                  'selection': 0}},\n",
      " 'Egalitarian': {0: {'democratic': 10,\n",
      "                     'equitable': 0,\n",
      "                     'even-handed': 0,\n",
      "                     'impartial': 0,\n",
      "                     'just': 525}},\n",
      " 'Enemies': {14: {'attacker': 0,\n",
      "                  'competitor': 0,\n",
      "                  'murderer': 0,\n",
      "                  'spy': 0,\n",
      "                  'terrorist': 3}},\n",
      " 'Ethnicity': {2: {'background': 21,\n",
      "                   'identity': 10,\n",
      "                   'nationality': 13,\n",
      "                   'origin': 4,\n",
      "                   'race': 6}},\n",
      " 'Fear': {2: {'angst': 0, 'anxiety': 0, 'dismay': 0, 'horror': 1, 'unease': 0}},\n",
      " 'Flood': {17: {'deluge': 0, 'downpour': 0, 'flow': 10, 'glut': 0, 'spate': 0}},\n",
      " 'Forgiveness': {0: {'compassion': 0,\n",
      "                     'mercy': 0,\n",
      "                     'remission': 0,\n",
      "                     'reprieve': 0,\n",
      "                     'vindication': 0}},\n",
      " 'Future': {30: {'eventual': 3,\n",
      "                 'imminent': 0,\n",
      "                 'planned': 2,\n",
      "                 'prospective': 1,\n",
      "                 'subsequent': 0}},\n",
      " 'Genocide': {5: {'carnage': 0,\n",
      "                  'holocaust': 0,\n",
      "                  'mass murder': 0,\n",
      "                  'massacre': 0,\n",
      "                  'slaughter': 2}},\n",
      " 'Government': {48: {'authority': 1,\n",
      "                     'ministry': 1,\n",
      "                     'power': 22,\n",
      "                     'state': 17,\n",
      "                     'union': 13}},\n",
      " 'Grace': {0: {'agility': 0,\n",
      "               'beauty': 6,\n",
      "               'dexterity': 0,\n",
      "               'dignity': 0,\n",
      "               'finesse': 0}},\n",
      " 'Grenades': {9: {'explosive': 4,\n",
      "                  'fireball': 0,\n",
      "                  'missile': 0,\n",
      "                  'pineapple': 0,\n",
      "                  'shell': 0}},\n",
      " 'Guidance': {0: {'advice': 6,\n",
      "                  'direction': 2,\n",
      "                  'instruction': 0,\n",
      "                  'intelligence': 1,\n",
      "                  'management': 0}},\n",
      " 'Guilt': {4: {'culpability': 0,\n",
      "               'disgrace': 0,\n",
      "               'indiscretion': 0,\n",
      "               'liability': 0,\n",
      "               'regret': 2}},\n",
      " 'Happy': {38: {'cheerful': 0,\n",
      "                'contented': 0,\n",
      "                'ecstatic': 0,\n",
      "                'elated': 8,\n",
      "                'overjoyed': 0}},\n",
      " 'Hate': {50: {'antagonism': 0,\n",
      "               'enmity': 0,\n",
      "               'hostility': 0,\n",
      "               'pain': 49,\n",
      "               'revenge': 1}},\n",
      " 'Hierarchical': {0: {'graded': 0,\n",
      "                      'hierarchic': 0,\n",
      "                      'ordered': 0,\n",
      "                      'ranked': 0,\n",
      "                      'stratified': 0}},\n",
      " 'Home': {81: {'central': 2,\n",
      "               'familiar': 7,\n",
      "               'family': 75,\n",
      "               'household': 0,\n",
      "               'local': 3}},\n",
      " 'Hope': {31: {'anticipation': 0,\n",
      "               'belief': 2,\n",
      "               'confidence': 1,\n",
      "               'desire': 7,\n",
      "               'prospect': 1}},\n",
      " 'Income': {0: {'pay': 40, 'profit': 1, 'revenue': 0, 'salary': 6, 'wage': 0}},\n",
      " 'Individualism': {0: {'individuality': 0,\n",
      "                       'name': 66,\n",
      "                       'self': 89,\n",
      "                       'singleness': 0,\n",
      "                       'status': 2}},\n",
      " 'Inquisitive': {0: {'analytical': 0,\n",
      "                     'forward': 7,\n",
      "                     'impertinent': 0,\n",
      "                     'inquiring': 0,\n",
      "                     'nosy': 0}},\n",
      " 'Inspired': {3: {'animated': 0,\n",
      "                  'exhilarated': 0,\n",
      "                  'influenced': 14,\n",
      "                  'moved': 10,\n",
      "                  'started': 60}},\n",
      " 'Interfaith': {0: {'inter face': 0,\n",
      "                    'on faith': 0,\n",
      "                    'un faith': 0,\n",
      "                    'un-faith': 0,\n",
      "                    'unfaith': 0}},\n",
      " 'LGBT': {8: {'jabot': 0, 'leg it': 0, 'legate': 0, 'legist': 0, 'lubed': 0}},\n",
      " 'Light': {15: {'bright': 2,\n",
      "                'luminous': 0,\n",
      "                'rich': 11,\n",
      "                'shiny': 0,\n",
      "                'sunny': 0}},\n",
      " 'Loss': {0: {'accident': 2,\n",
      "              'damage': 5,\n",
      "              'debt': 2,\n",
      "              'disaster': 3,\n",
      "              'fall': 20}},\n",
      " 'Mad': {60: {'delirious': 0,\n",
      "              'fantastic': 0,\n",
      "              'frenzied': 0,\n",
      "              'kooky': 0,\n",
      "              'nutty': 0}},\n",
      " 'Malls': {18: {'market': 4,\n",
      "                'mart': 7,\n",
      "                'plaza': 0,\n",
      "                'shopping center': 0,\n",
      "                'shopping mall': 0}},\n",
      " 'Marriage': {12: {'alliance': 0,\n",
      "                   'amalgamation': 0,\n",
      "                   'merger': 0,\n",
      "                   'wedding': 2,\n",
      "                   'wedlock': 0}},\n",
      " 'Military': {1: {'army': 25,\n",
      "                  'combatant': 0,\n",
      "                  'fighting': 23,\n",
      "                  'martial': 0,\n",
      "                  'militant': 0}},\n",
      " 'Mosque': {44: {'church': 79,\n",
      "                 'house of worship': 0,\n",
      "                 'sanctuary': 0,\n",
      "                 'shrine': 0,\n",
      "                 'synagogue': 1}},\n",
      " 'Multi-Cultural': {0: {'continental': 0,\n",
      "                        'global': 0,\n",
      "                        'multicultural': 6,\n",
      "                        'universal': 0,\n",
      "                        'worldwide': 0}},\n",
      " 'Museum': {31: {'building': 62,\n",
      "                 'foundation': 0,\n",
      "                 'gallery': 0,\n",
      "                 'library': 0,\n",
      "                 'salon': 0}},\n",
      " 'Natural': {10: {'innate': 0,\n",
      "                  'instinctive': 0,\n",
      "                  'legitimate': 1,\n",
      "                  'logical': 8,\n",
      "                  'reasonable': 2}},\n",
      " 'Nepotism': {3: {'bias': 1,\n",
      "                  'discrimination': 1,\n",
      "                  'inequity': 0,\n",
      "                  'partisanship': 0,\n",
      "                  'preference': 1}},\n",
      " 'Non-Acceptance': {0: {'disapproval': 0,\n",
      "                        'rebuttal': 0,\n",
      "                        'rejection': 0,\n",
      "                        'repudiation': 0,\n",
      "                        'veto': 0}},\n",
      " 'PTSD': {2: {'combat disorder': 0,\n",
      "              'combat fatigue': 0,\n",
      "              'combat neurosis': 0,\n",
      "              'complete exhaustion': 0,\n",
      "              'shell shock': 0}},\n",
      " 'Pain': {49: {'burn': 8,\n",
      "               'cramp': 0,\n",
      "               'fever': 0,\n",
      "               'sickness': 0,\n",
      "               'soreness': 0}},\n",
      " 'Past': {26: {'completed': 0,\n",
      "               'former': 5,\n",
      "               'previous': 2,\n",
      "               'prior': 0,\n",
      "               'spent': 8}},\n",
      " 'Petitions': {3: {'application': 0,\n",
      "                   'memorial': 9,\n",
      "                   'prayer': 5,\n",
      "                   'request': 0,\n",
      "                   'suit': 2}},\n",
      " 'Politics': {44: {'electioneering': 0,\n",
      "                   'government': 48,\n",
      "                   'legislature': 0,\n",
      "                   'polity': 0,\n",
      "                   'zoo': 0}},\n",
      " 'Poverty': {5: {'bankruptcy': 3,\n",
      "                 'debt': 2,\n",
      "                 'famine': 0,\n",
      "                 'hardship': 0,\n",
      "                 'lack': 15}},\n",
      " 'Present': {108: {'being': 52,\n",
      "                   'coeval': 0,\n",
      "                   'current': 4,\n",
      "                   'modern': 10,\n",
      "                   'prompt': 0}},\n",
      " 'Pride': {6: {'dignity': 0,\n",
      "               'joy': 10,\n",
      "               'satisfaction': 0,\n",
      "               'self-confidence': 0,\n",
      "               'self-respect': 0}},\n",
      " 'Rape': {3: {'abduction': 0,\n",
      "              'abuse': 4,\n",
      "              'despoliation': 0,\n",
      "              'maltreatment': 0,\n",
      "              'violation': 0}},\n",
      " 'Recovery': {0: {'improvement': 3,\n",
      "                  'readjustment': 0,\n",
      "                  'restoration': 0,\n",
      "                  'resumption': 0,\n",
      "                  'return': 4}},\n",
      " 'Religion': {107: {'creed': 0,\n",
      "                    'myth': 0,\n",
      "                    'mythology': 0,\n",
      "                    'ritual': 0,\n",
      "                    'superstition': 0}},\n",
      " 'Resilency': {0: {'residence': 1, 'residency': 1, 'resilience': 0}},\n",
      " 'Sad': {72: {'bitter': 2,\n",
      "              'dismal': 0,\n",
      "              'melancholy': 0,\n",
      "              'pessimistic': 0,\n",
      "              'somber': 0}},\n",
      " 'Safe': {6: {'intact': 0,\n",
      "              'okay': 108,\n",
      "              'protected': 4,\n",
      "              'secure': 1,\n",
      "              'snug': 0}},\n",
      " 'Scared': {11: {'afraid': 8,\n",
      "                 'anxious': 0,\n",
      "                 'fearful': 0,\n",
      "                 'panicky': 0,\n",
      "                 'startled': 0}},\n",
      " 'Shame': {7: {'confusion': 0,\n",
      "               'guilt': 4,\n",
      "               'humiliation': 0,\n",
      "               'irritation': 1,\n",
      "               'remorse': 0}},\n",
      " 'Shootings': {0: {'blasting': 0,\n",
      "                   'discharging': 0,\n",
      "                   'firing': 0,\n",
      "                   'gunfire': 0,\n",
      "                   'gunning': 0}},\n",
      " 'Stress': {10: {'accent': 0,\n",
      "                 'beat': 1,\n",
      "                 'force': 14,\n",
      "                 'importance': 0,\n",
      "                 'weight': 0}},\n",
      " 'Synagogue': {1: {'house of worship': 0,\n",
      "                   'mosque': 44,\n",
      "                   'parish': 0,\n",
      "                   'shrine': 0,\n",
      "                   'temple': 0}},\n",
      " 'Trauma': {5: {'blow': 5,\n",
      "                'ordeal': 0,\n",
      "                'stress': 10,\n",
      "                'torture': 2,\n",
      "                'upheaval': 0}},\n",
      " 'Unemployment': {6: {'bankruptcy': 3,\n",
      "                      'crisis': 0,\n",
      "                      'dislocation': 0,\n",
      "                      'drop': 1,\n",
      "                      'sag': 18}},\n",
      " 'Unity': {28: {'agreement': 19,\n",
      "                'consensus': 0,\n",
      "                'peace': 50,\n",
      "                'unanimity': 0,\n",
      "                'unification': 0}},\n",
      " 'Unknown': {2: {'exotic': 0,\n",
      "                 'remote': 0,\n",
      "                 'undiscovered': 0,\n",
      "                 'unexplored': 0,\n",
      "                 'unidentified': 0}},\n",
      " 'Violence': {5: {'brutality': 0,\n",
      "                  'clash': 0,\n",
      "                  'confusion': 0,\n",
      "                  'disturbance': 0,\n",
      "                  'rampage': 0}},\n",
      " 'Volunteering': {8: {'advance': 0,\n",
      "                      'come forward': 0,\n",
      "                      'enlist': 0,\n",
      "                      'suggest': 1,\n",
      "                      'tender': 1}},\n",
      " 'War': {360: {'combat': 0,\n",
      "               'fighting': 23,\n",
      "               'hostility': 0,\n",
      "               'strife': 0,\n",
      "               'warfare': 0}},\n",
      " 'War-Torn': {0: {'a turn': 0,\n",
      "                  'carton': 0,\n",
      "                  'wanton': 0,\n",
      "                  'wast on': 0,\n",
      "                  'wert born': 0}},\n",
      " 'Xenophobia': {0: {'bias': 1,\n",
      "                    'bigotry': 0,\n",
      "                    'discrimination': 1,\n",
      "                    'enmity': 0,\n",
      "                    'racism': 0}}}\n"
     ]
    }
   ],
   "source": [
    "# Printing the python dictionary with the keyword as key and values as frequency of the keyword and it's synonym's and their frequency\n",
    "import pprint\n",
    "pprint.pprint(keywords_synonyms)"
   ]
  },
  {
   "cell_type": "code",
   "execution_count": 29,
   "metadata": {},
   "outputs": [
    {
     "data": {
      "image/png": "[encoded data removed]",
      "text/plain": [
       "<matplotlib.figure.Figure at 0x1277a7c50>"
      ]
     },
     "metadata": {},
     "output_type": "display_data"
    }
   ],
   "source": [
    "# Calling the wordcloud function\n",
    "wc = create_wordcloud(interviewees_blob)\n",
    "# Plotting the wordcloud\n",
    "import matplotlib.pyplot as plt\n",
    "plt.imshow(wc, interpolation = 'bilinear')\n",
    "plt.axis('off')\n",
    "plt.show()"
   ]
  },
  {
   "cell_type": "markdown",
   "metadata": {},
   "source": [
    "A topic model is next being built. In the below case, the interviewer and the interviewee text is being used to build the model."
   ]
  },
  {
   "cell_type": "code",
   "execution_count": 27,
   "metadata": {},
   "outputs": [],
   "source": [
    "normalized_text = [clean_and_prep(doc) for doc in cleaned_text_overall]"
   ]
  },
  {
   "cell_type": "code",
   "execution_count": 28,
   "metadata": {},
   "outputs": [],
   "source": [
    "ldamodel = build_topic_model(normalized_text, num_topics = 10, passes = 50)"
   ]
  },
  {
   "cell_type": "code",
   "execution_count": 35,
   "metadata": {},
   "outputs": [
    {
     "ename": "AttributeError",
     "evalue": "module 'gensim.models' has no attribute 'ldamodel'",
     "output_type": "error",
     "traceback": [
      "\u001b[0;31m---------------------------------------------------------------------------\u001b[0m",
      "\u001b[0;31mAttributeError\u001b[0m                            Traceback (most recent call last)",
      "\u001b[0;32m<ipython-input-35-96d384e9124f>\u001b[0m in \u001b[0;36m<module>\u001b[0;34m()\u001b[0m\n\u001b[1;32m     11\u001b[0m \u001b[0;31m# # Running LDA Model\u001b[0m\u001b[0;34m\u001b[0m\u001b[0;34m\u001b[0m\u001b[0m\n\u001b[1;32m     12\u001b[0m \u001b[0;31m# # Creating the object for LDA model using Gensim library\u001b[0m\u001b[0;34m\u001b[0m\u001b[0;34m\u001b[0m\u001b[0m\n\u001b[0;32m---> 13\u001b[0;31m \u001b[0mLda\u001b[0m \u001b[0;34m=\u001b[0m \u001b[0mgensim\u001b[0m\u001b[0;34m.\u001b[0m\u001b[0mmodels\u001b[0m\u001b[0;34m.\u001b[0m\u001b[0mldamodel\u001b[0m\u001b[0;34m.\u001b[0m\u001b[0mLdaModel\u001b[0m\u001b[0;34m\u001b[0m\u001b[0m\n\u001b[0m\u001b[1;32m     14\u001b[0m \u001b[0;34m\u001b[0m\u001b[0m\n\u001b[1;32m     15\u001b[0m \u001b[0;31m# # Running and training LDA model on the doc term matrix\u001b[0m\u001b[0;34m\u001b[0m\u001b[0;34m\u001b[0m\u001b[0m\n",
      "\u001b[0;31mAttributeError\u001b[0m: module 'gensim.models' has no attribute 'ldamodel'"
     ]
    }
   ],
   "source": [
    "# # Importing Gensim\n",
    "# import gensim\n",
    "# from gensim import corpora\n",
    "\n",
    "# # Creating the term dictionary of our corpus, where every unique term is assigned an index\n",
    "# dictionary = corpora.Dictionary([doc.split() for doc in cleaned_text_overall])\n",
    "\n",
    "# # Converting the list of documents (corpus) into Document Term Matrix using dictionary prepared above.\n",
    "# doc_term_matrix = [dictionary.doc2bow(doc.split()) for doc in cleaned_text_overall]\n",
    "\n",
    "# # Running LDA Model\n",
    "# # Creating the object for LDA model using Gensim library\n",
    "# Lda = gensim.models.ldamodel.LdaModel\n",
    "\n",
    "# # Running and training LDA model on the doc term matrix\n",
    "# ldamodel = Lda(doc_term_matrix, num_topics = 10, id2word = dictionary, passes = 50)"
   ]
  },
  {
   "cell_type": "code",
   "execution_count": 29,
   "metadata": {},
   "outputs": [
    {
     "name": "stdout",
     "output_type": "stream",
     "text": [
      "[(0, '0.245*\"e\" + 0.122*\"n\" + 0.121*\"h\" + 0.101*\"r\" + 0.086*\"l\"'), (1, '0.243*\"e\" + 0.116*\"n\" + 0.102*\"r\" + 0.082*\"h\" + 0.068*\"l\"'), (2, '0.311*\"e\" + 0.108*\"n\" + 0.104*\"h\" + 0.092*\"w\" + 0.086*\"r\"'), (3, '0.269*\"e\" + 0.149*\"n\" + 0.114*\"h\" + 0.102*\"r\" + 0.062*\"l\"'), (4, '0.036*\"e\" + 0.036*\"n\" + 0.036*\"r\" + 0.036*\"h\" + 0.036*\"l\"'), (5, '0.297*\"e\" + 0.138*\"n\" + 0.099*\"r\" + 0.098*\"h\" + 0.072*\"w\"'), (6, '0.208*\"e\" + 0.126*\"n\" + 0.111*\"r\" + 0.099*\"h\" + 0.076*\"l\"'), (7, '0.279*\"e\" + 0.156*\"n\" + 0.110*\"r\" + 0.084*\"h\" + 0.058*\"l\"'), (8, '0.248*\"e\" + 0.154*\"r\" + 0.142*\"n\" + 0.102*\"h\" + 0.065*\"l\"'), (9, '0.235*\"e\" + 0.116*\"r\" + 0.112*\"n\" + 0.101*\"h\" + 0.069*\"l\"')]\n"
     ]
    }
   ],
   "source": [
    "print(ldamodel.print_topics(num_topics=10, num_words=5))"
   ]
  },
  {
   "cell_type": "code",
   "execution_count": null,
   "metadata": {},
   "outputs": [],
   "source": [
    "# interviewees_blob[0]"
   ]
  },
  {
   "cell_type": "code",
   "execution_count": null,
   "metadata": {},
   "outputs": [],
   "source": []
  }
 ],
 "metadata": {
  "kernelspec": {
   "display_name": "Python 3",
   "language": "python",
   "name": "python3"
  },
  "language_info": {
   "codemirror_mode": {
    "name": "ipython",
    "version": 3
   },
   "file_extension": ".py",
   "mimetype": "text/x-python",
   "name": "python",
   "nbconvert_exporter": "python",
   "pygments_lexer": "ipython3",
   "version": "3.6.1"
  }
 },
 "nbformat": 4,
 "nbformat_minor": 2
}
