{
 "cells": [
  {
   "cell_type": "markdown",
   "metadata": {},
   "source": [
    "All the interview files were downloaded and saved in a common folder."
   ]
  },
  {
   "cell_type": "code",
   "execution_count": 1,
   "metadata": {},
   "outputs": [],
   "source": [
    "import project_1948"
   ]
  },
  {
   "cell_type": "code",
   "execution_count": 2,
   "metadata": {},
   "outputs": [],
   "source": [
    "from project_1948 import read_doc_file_to_string\n",
    "from project_1948 import remove_grouped_text\n",
    "from project_1948 import remove_punctuation_characters\n",
    "from project_1948 import normalize_text\n",
    "from project_1948 import separate_statements\n",
    "from project_1948 import word_context\n",
    "from project_1948 import clean_text\n",
    "from project_1948 import count_keywords_and_phrases\n",
    "from project_1948 import count_words"
   ]
  },
  {
   "cell_type": "markdown",
   "metadata": {},
   "source": [
    "The below code allows to read all the docx files into variables."
   ]
  },
  {
   "cell_type": "code",
   "execution_count": 3,
   "metadata": {},
   "outputs": [],
   "source": [
    "text_file_1 = read_doc_file_to_string('Interview #1 - Participant 1.docx', 'rb')"
   ]
  },
  {
   "cell_type": "code",
   "execution_count": 4,
   "metadata": {},
   "outputs": [],
   "source": [
    "text_file_2_1 = read_doc_file_to_string('Interview #2-Participant 2.docx', 'rb')\n",
    "text_file_2_2 = read_doc_file_to_string('Interview 2-Participant 2.docx', 'rb')"
   ]
  },
  {
   "cell_type": "code",
   "execution_count": 5,
   "metadata": {},
   "outputs": [],
   "source": [
    "text_file_4 = read_doc_file_to_string('Interview#4Participant#4.docx', 'rb')"
   ]
  },
  {
   "cell_type": "code",
   "execution_count": 6,
   "metadata": {},
   "outputs": [],
   "source": [
    "text_file_5 = read_doc_file_to_string('Interview #5. Participant # 5.docx', 'rb')"
   ]
  },
  {
   "cell_type": "code",
   "execution_count": 7,
   "metadata": {},
   "outputs": [],
   "source": [
    "text_file_6 = read_doc_file_to_string('Interview #6. Participant #6.docx', 'rb')"
   ]
  },
  {
   "cell_type": "code",
   "execution_count": 8,
   "metadata": {},
   "outputs": [],
   "source": [
    "text_file_7 = read_doc_file_to_string('Interview #7. Participant #7.docx', 'rb')"
   ]
  },
  {
   "cell_type": "code",
   "execution_count": 9,
   "metadata": {},
   "outputs": [],
   "source": [
    "text_file_8_1 = read_doc_file_to_string('Interview #8 . Participant #8 2cd Recording.docx', 'rb')\n",
    "text_file_8_2 = read_doc_file_to_string('Interview #8 2cd Recording.docx', 'rb')\n",
    "text_file_8_3 = read_doc_file_to_string('Interview #8 Recording - 13 minute runtime.docx', 'rb')\n",
    "text_file_8_4 = read_doc_file_to_string('Interview #8. Participant #8. 1st Recording - 13 minute runtime.docx', 'rb')"
   ]
  },
  {
   "cell_type": "code",
   "execution_count": 10,
   "metadata": {},
   "outputs": [],
   "source": [
    "text_file_9 = read_doc_file_to_string('Interview #9. Participant #9.docx', 'rb')"
   ]
  },
  {
   "cell_type": "code",
   "execution_count": 11,
   "metadata": {},
   "outputs": [],
   "source": [
    "text_file_10 = read_doc_file_to_string('Interview #10. Participant #10.docx', 'rb')"
   ]
  },
  {
   "cell_type": "code",
   "execution_count": 12,
   "metadata": {},
   "outputs": [],
   "source": [
    "text_file_11_1 = read_doc_file_to_string('Interview #11 (1).docx', 'rb')\n",
    "text_file_11_2 = read_doc_file_to_string('Interview #11&12.Partcipant1&2.docx', 'rb')"
   ]
  },
  {
   "cell_type": "code",
   "execution_count": 13,
   "metadata": {},
   "outputs": [],
   "source": [
    "text_file_12 = read_doc_file_to_string('Kenan.docx', 'rb')"
   ]
  },
  {
   "cell_type": "code",
   "execution_count": 14,
   "metadata": {},
   "outputs": [],
   "source": [
    "text_file_13 = read_doc_file_to_string('Aris.docx', 'rb')"
   ]
  },
  {
   "cell_type": "code",
   "execution_count": 15,
   "metadata": {},
   "outputs": [],
   "source": [
    "text_file_14 = read_doc_file_to_string('Belma.docx', 'rb')"
   ]
  },
  {
   "cell_type": "code",
   "execution_count": 16,
   "metadata": {},
   "outputs": [],
   "source": [
    "text_file_15 = read_doc_file_to_string('Danijel.docx', 'rb')"
   ]
  },
  {
   "cell_type": "code",
   "execution_count": 17,
   "metadata": {},
   "outputs": [],
   "source": [
    "text_file_16 = read_doc_file_to_string('Darko.docx', 'rb')"
   ]
  },
  {
   "cell_type": "code",
   "execution_count": 18,
   "metadata": {},
   "outputs": [],
   "source": [
    "text_file_17 = read_doc_file_to_string('Jusuf.docx', 'rb')"
   ]
  },
  {
   "cell_type": "markdown",
   "metadata": {},
   "source": [
    "A sample output shows the contents of the file being read and stored in a string."
   ]
  },
  {
   "cell_type": "code",
   "execution_count": 19,
   "metadata": {},
   "outputs": [],
   "source": [
    "#text_file_1"
   ]
  },
  {
   "cell_type": "markdown",
   "metadata": {},
   "source": [
    "Let's combine the files into one list for further processing."
   ]
  },
  {
   "cell_type": "code",
   "execution_count": 20,
   "metadata": {},
   "outputs": [],
   "source": [
    "# Create a list first of all the strings\n",
    "text_file_overall = [text_file_1, text_file_2_1, text_file_2_2, text_file_4, text_file_5, text_file_6, text_file_7,\n",
    "                    text_file_8_1, text_file_8_2, text_file_8_3, text_file_8_4, text_file_9, text_file_10, \n",
    "                    text_file_11_1, text_file_11_2, text_file_12, text_file_13, text_file_14, text_file_15, text_file_16,\n",
    "                    text_file_17]"
   ]
  },
  {
   "cell_type": "markdown",
   "metadata": {},
   "source": [
    "The data for all the files is being cleaned."
   ]
  },
  {
   "cell_type": "code",
   "execution_count": 21,
   "metadata": {},
   "outputs": [],
   "source": [
    "cleaned_text_overall = clean_text(text_file_overall)"
   ]
  },
  {
   "cell_type": "code",
   "execution_count": 22,
   "metadata": {},
   "outputs": [],
   "source": [
    "#cleaned_text_overall[12]"
   ]
  },
  {
   "cell_type": "code",
   "execution_count": 23,
   "metadata": {
    "scrolled": true
   },
   "outputs": [
    {
     "name": "stdout",
     "output_type": "stream",
     "text": [
      "finished\n"
     ]
    }
   ],
   "source": [
    "count_keywords_and_phrases(cleaned_text_overall)"
   ]
  },
  {
   "cell_type": "code",
   "execution_count": 24,
   "metadata": {},
   "outputs": [
    {
     "name": "stdout",
     "output_type": "stream",
     "text": [
      "finished\n"
     ]
    }
   ],
   "source": [
    "count_words(cleaned_text_overall)"
   ]
  },
  {
   "cell_type": "code",
   "execution_count": null,
   "metadata": {},
   "outputs": [],
   "source": []
  },
  {
   "cell_type": "code",
   "execution_count": null,
   "metadata": {},
   "outputs": [],
   "source": []
  }
 ],
 "metadata": {
  "kernelspec": {
   "display_name": "Python 3",
   "language": "python",
   "name": "python3"
  },
  "language_info": {
   "codemirror_mode": {
    "name": "ipython",
    "version": 3
   },
   "file_extension": ".py",
   "mimetype": "text/x-python",
   "name": "python",
   "nbconvert_exporter": "python",
   "pygments_lexer": "ipython3",
   "version": "3.5.2"
  }
 },
 "nbformat": 4,
 "nbformat_minor": 2
}
